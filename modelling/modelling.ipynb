{
 "cells": [
  {
   "cell_type": "code",
   "execution_count": 19,
   "metadata": {},
   "outputs": [],
   "source": [
    "import pandas as pd\n",
    "import numpy as np\n",
    "from sklearn.model_selection import train_test_split\n",
    "from sklearn.metrics import roc_auc_score, roc_curve\n",
    "\n",
    "import matplotlib.pyplot as plt\n",
    "\n",
    "\n",
    "import xgboost "
   ]
  },
  {
   "cell_type": "code",
   "execution_count": 2,
   "metadata": {},
   "outputs": [],
   "source": [
    "# Load data\n",
    "folder = \"2012-and-2016-presidential-elections/\"\n",
    "\n",
    "county_fact_dict = pd.read_csv(folder+\"county_facts_dictionary12_16.csv\")\n",
    "county_facts = pd.read_csv(folder+\"county_facts12_16.csv\")\n",
    "county_results = pd.read_csv(folder+\"US_County_Level_Presidential_Results_12-16.csv\")\n",
    "votes = pd.read_csv(folder+\"votes12_16.csv\")"
   ]
  },
  {
   "cell_type": "code",
   "execution_count": 3,
   "metadata": {},
   "outputs": [
    {
     "data": {
      "text/plain": [
       "column_name    object\n",
       "description    object\n",
       "dtype: object"
      ]
     },
     "execution_count": 3,
     "metadata": {},
     "output_type": "execute_result"
    }
   ],
   "source": [
    "county_fact_dict.dtypes"
   ]
  },
  {
   "cell_type": "code",
   "execution_count": 4,
   "metadata": {},
   "outputs": [],
   "source": [
    "# Create target variable\n",
    "\n",
    "def target_function(row):\n",
    "    if (row['per_dem_2012'] - row['per_dem_2016']) >= 0.15:\n",
    "        return 1\n",
    "    else:\n",
    "        return 0\n",
    "    \n",
    "county_results['target'] = county_results.apply(target_function, axis=1)"
   ]
  },
  {
   "cell_type": "code",
   "execution_count": null,
   "metadata": {},
   "outputs": [],
   "source": []
  },
  {
   "cell_type": "code",
   "execution_count": 5,
   "metadata": {},
   "outputs": [],
   "source": [
    "# Join tables\n",
    "\n",
    "data = pd.merge(county_results, county_facts, how=\"inner\", left_on=\"FIPS\", right_on=\"fips\" )"
   ]
  },
  {
   "cell_type": "code",
   "execution_count": 6,
   "metadata": {},
   "outputs": [],
   "source": [
    "data.drop('Unnamed: 0', axis=1, inplace=True)"
   ]
  },
  {
   "cell_type": "code",
   "execution_count": 8,
   "metadata": {},
   "outputs": [
    {
     "data": {
      "text/plain": [
       "Index(['combined_fips', 'votes_dem_2016', 'votes_gop_2016', 'total_votes_2016',\n",
       "       'per_dem_2016', 'per_gop_2016', 'diff_2016', 'per_point_diff_2016',\n",
       "       'state_abbr', 'county_name', 'FIPS', 'total_votes_2012',\n",
       "       'votes_dem_2012', 'votes_gop_2012', 'county_fips', 'state_fips',\n",
       "       'per_dem_2012', 'per_gop_2012', 'diff_2012', 'per_point_diff_2012',\n",
       "       'target', 'fips', 'area_name', 'state_abbreviation', 'PST045214',\n",
       "       'PST040210', 'PST120214', 'POP010210', 'AGE135214', 'AGE295214',\n",
       "       'AGE775214', 'SEX255214', 'RHI125214', 'RHI225214', 'RHI325214',\n",
       "       'RHI425214', 'RHI525214', 'RHI625214', 'RHI725214', 'RHI825214',\n",
       "       'POP715213', 'POP645213', 'POP815213', 'EDU635213', 'EDU685213',\n",
       "       'VET605213', 'LFE305213', 'HSG010214', 'HSG445213', 'HSG096213',\n",
       "       'HSG495213', 'HSD410213', 'HSD310213', 'INC910213', 'INC110213',\n",
       "       'PVY020213', 'BZA010213', 'BZA110213', 'BZA115213', 'NES010213',\n",
       "       'SBO001207', 'SBO315207', 'SBO115207', 'SBO215207', 'SBO515207',\n",
       "       'SBO415207', 'SBO015207', 'MAN450207', 'WTN220207', 'RTN130207',\n",
       "       'RTN131207', 'AFN120207', 'BPS030214', 'LND110210', 'POP060210'],\n",
       "      dtype='object')"
      ]
     },
     "execution_count": 8,
     "metadata": {},
     "output_type": "execute_result"
    }
   ],
   "source": [
    "data.columns"
   ]
  },
  {
   "cell_type": "code",
   "execution_count": 9,
   "metadata": {},
   "outputs": [],
   "source": [
    "modelling_col = ['per_dem_2012','PST045214',\n",
    "       'PST040210', 'PST120214', 'POP010210', 'AGE135214', 'AGE295214',\n",
    "       'AGE775214', 'SEX255214', 'RHI125214', 'RHI225214', 'RHI325214',\n",
    "       'RHI425214', 'RHI525214', 'RHI625214', 'RHI725214', 'RHI825214',\n",
    "       'POP715213', 'POP645213', 'POP815213', 'EDU635213', 'EDU685213',\n",
    "       'VET605213', 'LFE305213', 'HSG010214', 'HSG445213', 'HSG096213',\n",
    "       'HSG495213', 'HSD410213', 'HSD310213', 'INC910213', 'INC110213',\n",
    "       'PVY020213', 'BZA010213', 'BZA110213', 'BZA115213', 'NES010213',\n",
    "       'SBO001207', 'SBO315207', 'SBO115207', 'SBO215207', 'SBO515207',\n",
    "       'SBO415207', 'SBO015207', 'MAN450207', 'WTN220207', 'RTN130207',\n",
    "       'RTN131207', 'AFN120207', 'BPS030214', 'LND110210', 'POP060210']"
   ]
  },
  {
   "cell_type": "code",
   "execution_count": 12,
   "metadata": {},
   "outputs": [],
   "source": [
    "# Build prediction model\n",
    "\n",
    "X_train, X_test, y_train, y_test = train_test_split(data[modelling_col], \n",
    "                                                    data['target'], \n",
    "                                                    test_size=0.33, \n",
    "                                                    random_state=42)\n"
   ]
  },
  {
   "cell_type": "code",
   "execution_count": 14,
   "metadata": {},
   "outputs": [],
   "source": [
    "# Create model\n",
    "\n",
    "model = xgboost.XGBRegressor()"
   ]
  },
  {
   "cell_type": "code",
   "execution_count": 16,
   "metadata": {},
   "outputs": [
    {
     "name": "stdout",
     "output_type": "stream",
     "text": [
      "[18:12:52] WARNING: src/objective/regression_obj.cu:152: reg:linear is now deprecated in favor of reg:squarederror.\n"
     ]
    },
    {
     "data": {
      "text/plain": [
       "XGBRegressor(base_score=0.5, booster='gbtree', colsample_bylevel=1,\n",
       "       colsample_bynode=1, colsample_bytree=1, gamma=0,\n",
       "       importance_type='gain', learning_rate=0.1, max_delta_step=0,\n",
       "       max_depth=3, min_child_weight=1, missing=None, n_estimators=100,\n",
       "       n_jobs=1, nthread=None, objective='reg:linear', random_state=0,\n",
       "       reg_alpha=0, reg_lambda=1, scale_pos_weight=1, seed=None,\n",
       "       silent=None, subsample=1, verbosity=1)"
      ]
     },
     "execution_count": 16,
     "metadata": {},
     "output_type": "execute_result"
    }
   ],
   "source": [
    "model.fit(X_train, y_train)"
   ]
  },
  {
   "cell_type": "code",
   "execution_count": 27,
   "metadata": {},
   "outputs": [
    {
     "name": "stdout",
     "output_type": "stream",
     "text": [
      "82\n",
      "0.9292900585460124\n"
     ]
    },
    {
     "data": {
      "image/png": "[encoded data removed]",
      "text/plain": [
       "<Figure size 432x288 with 1 Axes>"
      ]
     },
     "metadata": {
      "needs_background": "light"
     },
     "output_type": "display_data"
    }
   ],
   "source": [
    "def plot_gini(y_predict, y_actual):\n",
    "    \n",
    "    fpr, tpr, thresh = roc_curve(y_actual, y_predict)\n",
    "    \n",
    "    #for i in [0.2, 0.4, 0.6, 0.8]:\n",
    "    #    x_plot.append(1/100)\n",
    "    print(len(fpr))\n",
    "    plt.plot(fpr, tpr)\n",
    "    \n",
    "plot_gini(model.predict(X_test), y_test)\n",
    "auc = roc_auc_score(y_test,model.predict(X_test))\n",
    "\n",
    "print(2*auc-1)\n",
    "    \n",
    "        \n",
    "        "
   ]
  }
 ],
 "metadata": {
  "kernelspec": {
   "display_name": "Python 3",
   "language": "python",
   "name": "python3"
  },
  "language_info": {
   "codemirror_mode": {
    "name": "ipython",
    "version": 3
   },
   "file_extension": ".py",
   "mimetype": "text/x-python",
   "name": "python",
   "nbconvert_exporter": "python",
   "pygments_lexer": "ipython3",
   "version": "3.7.3"
  }
 },
 "nbformat": 4,
 "nbformat_minor": 2
}
